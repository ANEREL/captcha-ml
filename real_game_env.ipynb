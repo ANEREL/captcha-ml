{
 "cells": [
  {
   "cell_type": "code",
   "execution_count": 1,
   "metadata": {},
   "outputs": [],
   "source": [
    "from selenium import webdriver\n",
    "from selenium.webdriver.common.by import By\n",
    "from selenium.webdriver.support.ui import WebDriverWait\n",
    "from selenium.webdriver.support import expected_conditions as EC\n",
    "from selenium.webdriver import ActionChains\n",
    "\n",
    "import time\n",
    "import random\n",
    "\n",
    "import io\n",
    "import numpy as np\n",
    "from PIL import Image\n",
    "import matplotlib.pyplot as plt\n",
    "\n",
    "from tensorflow import keras\n",
    "import cv2"
   ]
  },
  {
   "cell_type": "code",
   "execution_count": 22,
   "metadata": {},
   "outputs": [],
   "source": [
    "model = keras.models.load_model('model_keras_classif_2')"
   ]
  },
  {
   "cell_type": "markdown",
   "metadata": {},
   "source": [
    "# Real Env"
   ]
  },
  {
   "cell_type": "code",
   "execution_count": 23,
   "metadata": {},
   "outputs": [],
   "source": [
    "class LinkedInGame:\n",
    "    def __init__(self):\n",
    "        self.result = None\n",
    "        self.still_playing = True\n",
    "        self.browser = webdriver.Chrome('chromedriver.exe');\n",
    "        self.browser.get('https://iframe-auth.arkoselabs.com/7240EEE3-B753-6DA3-999D-2FBE6C507073/index.html?mkt=en');\n",
    "        time.sleep(7) # move to start game, and have something smart to check button 'verify' is there\n",
    "        \n",
    "    def start_game(self):\n",
    "#         wait = WebDriverWait(self.browser, 10)\n",
    "#         iframe = wait.until(EC.presence_of_element_located((By.ID, \"fc-iframe-wrap\")))\n",
    "#         self.browser.switch_to.frame(iframe)\n",
    "        self.browser.switch_to.frame(self.browser.find_element_by_id('fc-iframe-wrap'))\n",
    "        btn = self.browser.find_element_by_id('triggerLiteMode')\n",
    "#         wait = WebDriverWait(self.browser, 10)\n",
    "#         btn = wait.until(EC.presence_of_element_located((By.ID, \"triggerLiteMode\")))\n",
    "        ac = ActionChains(self.browser)\n",
    "        ac.move_to_element(btn).move_by_offset(0, 0).click().perform()\n",
    "        time.sleep(5) # do something smart for this wait\n",
    "        self.browser.switch_to.frame(self.browser.find_element_by_id('CaptchaFrame'))\n",
    "        \n",
    "    def get_state(self):\n",
    "        screenshot_data = self.browser.get_screenshot_as_png()\n",
    "        screen_img = Image.open(io.BytesIO(screenshot_data))\n",
    "        screen_array = np.asarray(screen_img)\n",
    "        screen_array = cv2.cvtColor(screen_array, cv2.COLOR_BGR2GRAY)\n",
    "        screen_array = screen_array[0:750, 0:750]\n",
    "        screen_array = screen_array[208:488, 237:517]\n",
    "        screen_array = cv2.resize(screen_array, (48,48))\n",
    "        screen_array = np.expand_dims(screen_array, axis=2)\n",
    "        screen_array = screen_array.astype('float32')\n",
    "        screen_array /= 255\n",
    "        return np.array([screen_array])\n",
    "        \n",
    "    def get_available_moves(self):\n",
    "        # Implement properly\n",
    "        return [-1, 1, 0]\n",
    "    \n",
    "    def make_move(self, move):\n",
    "        # 1: clockwise, -1: anticlockwise, 0: Done\n",
    "        if move == 1:\n",
    "            try:\n",
    "                canv = self.browser.find_element_by_id('FunCAPTCHA')\n",
    "                ac = ActionChains(self.browser)\n",
    "                ac.move_to_element(canv).move_by_offset(-75, 0).click().perform()\n",
    "            except:\n",
    "                self.check_result()\n",
    "        elif move == -1:\n",
    "            try:\n",
    "                canv = self.browser.find_element_by_id('FunCAPTCHA')\n",
    "                ac = ActionChains(self.browser)\n",
    "                ac.move_to_element(canv).move_by_offset(75, 0).click().perform()\n",
    "            except:\n",
    "                self.check_result()\n",
    "        else:\n",
    "            try:\n",
    "                canv = self.browser.find_element_by_id('FunCAPTCHA')\n",
    "                ac = ActionChains(self.browser)\n",
    "                ac.move_to_element(canv).move_by_offset(0, 90).click().perform()\n",
    "            except:\n",
    "                self.check_result()\n",
    "                \n",
    "    def check_result(self):\n",
    "        \"\"\"\n",
    "        TODO: To avoid the agent making a move after its already lost the first round:\n",
    "              consider adding a check for CaptchaFrame2 here and running the check after every move\n",
    "        \"\"\"\n",
    "        # Check what frame we're in here...\n",
    "        self.browser.switch_to.parent_frame()\n",
    "        #check for text\n",
    "        success_div = self.browser.find_element_by_class_name('success')\n",
    "        if success_div.value_of_css_property('display') != 'none':\n",
    "            self.still_playing = False\n",
    "            self.result = 'Won'\n",
    "        else:\n",
    "            self.still_playing = False\n",
    "            self.result = 'Lost'"
   ]
  },
  {
   "cell_type": "code",
   "execution_count": 24,
   "metadata": {},
   "outputs": [],
   "source": [
    "pred_map = {0:0, \n",
    "            1:-1, \n",
    "            2:1}"
   ]
  },
  {
   "cell_type": "code",
   "execution_count": 26,
   "metadata": {
    "scrolled": true
   },
   "outputs": [
    {
     "name": "stdout",
     "output_type": "stream",
     "text": [
      "[3.7107714e-06 9.9436897e-01 5.6273541e-03]\n"
     ]
    },
    {
     "data": {
      "image/png": "[encoded data removed]",
      "text/plain": [
       "<Figure size 432x288 with 1 Axes>"
      ]
     },
     "metadata": {
      "needs_background": "light"
     },
     "output_type": "display_data"
    },
    {
     "name": "stdout",
     "output_type": "stream",
     "text": [
      "-1\n",
      "[0.9529662  0.00277311 0.04426067]\n"
     ]
    },
    {
     "data": {
      "image/png": "[encoded data removed]",
      "text/plain": [
       "<Figure size 432x288 with 1 Axes>"
      ]
     },
     "metadata": {
      "needs_background": "light"
     },
     "output_type": "display_data"
    },
    {
     "name": "stdout",
     "output_type": "stream",
     "text": [
      "0\n",
      "[1.7289229e-05 9.3684852e-01 6.3134231e-02]\n"
     ]
    },
    {
     "data": {
      "image/png": "[encoded data removed]",
      "text/plain": [
       "<Figure size 432x288 with 1 Axes>"
      ]
     },
     "metadata": {
      "needs_background": "light"
     },
     "output_type": "display_data"
    },
    {
     "name": "stdout",
     "output_type": "stream",
     "text": [
      "-1\n",
      "[0.37916028 0.2221056  0.39873415]\n"
     ]
    },
    {
     "data": {
      "image/png": "[encoded data removed]",
      "text/plain": [
       "<Figure size 432x288 with 1 Axes>"
      ]
     },
     "metadata": {
      "needs_background": "light"
     },
     "output_type": "display_data"
    },
    {
     "name": "stdout",
     "output_type": "stream",
     "text": [
      "1\n",
      "Game result: Won\n"
     ]
    }
   ],
   "source": [
    "li_game = LinkedInGame()\n",
    "li_game.start_game()\n",
    "\n",
    "i = 0\n",
    "\n",
    "while li_game.still_playing:\n",
    "    \n",
    "    state_img = li_game.get_state()\n",
    "#     move_set = li_game.get_available_moves()\n",
    "    pred_id = model.predict(state_img)[0]\n",
    "    print(pred_id)\n",
    "    pred_id = np.argmax(pred_id)\n",
    "    \n",
    "    chosen_move = pred_map[pred_id]\n",
    "#     chosen_move = random.choice(move_set) # someone's gotta learn this...\n",
    "    \n",
    "    plt.figure()\n",
    "    plt.imshow(state_img[0][:, :, 0], cmap='gray')\n",
    "    plt.show()\n",
    "    \n",
    "    print(chosen_move)\n",
    "    \n",
    "    li_game.make_move(chosen_move)\n",
    "    time.sleep(1)\n",
    "    \n",
    "    i+=1\n",
    "    \n",
    "print(\"Game result:\", li_game.result)"
   ]
  },
  {
   "cell_type": "code",
   "execution_count": null,
   "metadata": {},
   "outputs": [],
   "source": []
  }
 ],
 "metadata": {
  "kernelspec": {
   "display_name": "Python 3",
   "language": "python",
   "name": "python3"
  },
  "language_info": {
   "codemirror_mode": {
    "name": "ipython",
    "version": 3
   },
   "file_extension": ".py",
   "mimetype": "text/x-python",
   "name": "python",
   "nbconvert_exporter": "python",
   "pygments_lexer": "ipython3",
   "version": "3.7.3"
  }
 },
 "nbformat": 4,
 "nbformat_minor": 4
}
